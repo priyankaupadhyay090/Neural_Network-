{
 "cells": [
  {
   "cell_type": "markdown",
   "metadata": {},
   "source": [
    "### Exercise 3 c) (3 points)\n",
    "\n",
    "This is intended to be a tutorial on PyTorch computation graphs. Your taks is to implement XOR. Each of the 3 subexercises is worth 1 point.\n",
    "\n",
    "The notebook provides code for you to start with. All necessary functions and classes are already imported. If you are unsure about how to use them, you can consult the corresponding documentation page (for example [torch.matmul](https://pytorch.org/docs/stable/generated/torch.matmul.html)). You may use numpy to define the XOR tables."
   ]
  },
  {
   "cell_type": "code",
   "execution_count": null,
   "metadata": {},
   "outputs": [],
   "source": [
    "# import necessary modules\n",
    "import torch\n",
    "import numpy as np # for data preparation\n",
    "from torch import matmul, sigmoid\n",
    "from torch.nn import MSELoss # Mean squared error\n",
    "\n",
    "torch.manual_seed(7)\n",
    "\n",
    "# number of epochs, learning rate and objective function should be the same for everyone\n",
    "epochs = 1000\n",
    "lr = 0.5\n",
    "criterion = MSELoss()"
   ]
  },
  {
   "cell_type": "markdown",
   "metadata": {},
   "source": [
    "## 1\n",
    "\n",
    "Now, as everything is imported, load the data into PyTorch tensors and define the model parameters. Explain the your decisions in 1-2 sentences each:\n",
    "\n",
    "a) How do you initialize the parameters (all zero, all ones, random distribution etc.)?\n",
    "\n",
    "What happens if biases are initialized as torch.ones(1)?\n",
    "\n",
    "b) Which of the variables need gradient tracking? What do you have to do to toggle it in PyTorch?\n"
   ]
  },
  {
   "cell_type": "code",
   "execution_count": null,
   "metadata": {},
   "outputs": [],
   "source": [
    "# data\n",
    "X = \n",
    "Y = \n",
    "\n",
    "# params\n",
    "W_i = \n",
    "W_o = \n",
    "b_a = \n",
    "b_o = "
   ]
  },
  {
   "cell_type": "markdown",
   "metadata": {},
   "source": [
    "## 2\n",
    "\n",
    "The next step is to implement a full forward pass of the model. This means you have to implement the computation graph built in a) and present each XOR input once to it."
   ]
  },
  {
   "cell_type": "code",
   "execution_count": null,
   "metadata": {},
   "outputs": [],
   "source": [
    "# TODO: forward pass"
   ]
  },
  {
   "cell_type": "markdown",
   "metadata": {},
   "source": [
    "## 3\n",
    "Enhance your model by actually doing backpropagation! \n",
    "\n",
    "Gradient from W_o, W_i + biases\n",
    "\n",
    "a) Employ the criterion defined in the first code cell to get a loss value and backpropagate by using the .backward() method. Then, access the gradient information in the tracked variables and perform the update. You can do so for a variable w by:\n",
    "\n",
    "```python\n",
    "w.data -= lr*w.grad.data\n",
    "```\n",
    "\n",
    "You also need to reset the gradient data after performing the update:\n",
    "\n",
    "```python\n",
    "w.grad.data.zero_()\n",
    "```\n",
    "\n",
    "You will have to loop over the data set several times to get a nice outcome. If your implementation is correct the values defined above (number of epochs, learning rate) will suffice."
   ]
  },
  {
   "cell_type": "code",
   "execution_count": null,
   "metadata": {},
   "outputs": [],
   "source": [
    "for epoch in epochs:\n",
    "    #TODO: Forward pass\n",
    "    #TODO: Backward pass"
   ]
  },
  {
   "cell_type": "markdown",
   "metadata": {},
   "source": [
    "b) Now, test your model on all data points! Did it learn?"
   ]
  },
  {
   "cell_type": "code",
   "execution_count": null,
   "metadata": {},
   "outputs": [],
   "source": [
    "# TODO: Test"
   ]
  },
  {
   "cell_type": "markdown",
   "metadata": {},
   "source": [
    "c) Finally, print the final weight matrix W_o and the hidden activation for each item. Can you tell what the model does to separate the classes? Would it work without sigmoid activation? Explain your answer in 2-3 sentences."
   ]
  },
  {
   "cell_type": "code",
   "execution_count": null,
   "metadata": {},
   "outputs": [],
   "source": [
    "# TODO: print W_o & hidden activation"
   ]
  }
 ],
 "metadata": {
  "kernelspec": {
   "display_name": "nnti",
   "language": "python",
   "name": "nnti"
  },
  "language_info": {
   "codemirror_mode": {
    "name": "ipython",
    "version": 3
   },
   "file_extension": ".py",
   "mimetype": "text/x-python",
   "name": "python",
   "nbconvert_exporter": "python",
   "pygments_lexer": "ipython3",
   "version": "3.8.5"
  }
 },
 "nbformat": 4,
 "nbformat_minor": 4
}
