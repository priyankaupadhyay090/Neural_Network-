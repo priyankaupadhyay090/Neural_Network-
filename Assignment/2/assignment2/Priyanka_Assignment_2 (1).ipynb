{
  "nbformat": 4,
  "nbformat_minor": 0,
  "metadata": {
    "colab": {
      "name": "Priyanka_Assignment_2.ipynb",
      "provenance": [],
      "collapsed_sections": []
    },
    "kernelspec": {
      "name": "python3",
      "display_name": "Python 3"
    },
    "widgets": {
      "application/vnd.jupyter.widget-state+json": {
        "9cc5fd80582645f6883d4952d1b3ccb4": {
          "model_module": "@jupyter-widgets/controls",
          "model_name": "HBoxModel",
          "state": {
            "_view_name": "HBoxView",
            "_dom_classes": [],
            "_model_name": "HBoxModel",
            "_view_module": "@jupyter-widgets/controls",
            "_model_module_version": "1.5.0",
            "_view_count": null,
            "_view_module_version": "1.5.0",
            "box_style": "",
            "layout": "IPY_MODEL_e1be3639624248de9828cc1bffe53ef5",
            "_model_module": "@jupyter-widgets/controls",
            "children": [
              "IPY_MODEL_48a64651aad14184a74e0319fe03dd24",
              "IPY_MODEL_62ee33eedaae49689828b3349c6c2e4b"
            ]
          }
        },
        "e1be3639624248de9828cc1bffe53ef5": {
          "model_module": "@jupyter-widgets/base",
          "model_name": "LayoutModel",
          "state": {
            "_view_name": "LayoutView",
            "grid_template_rows": null,
            "right": null,
            "justify_content": null,
            "_view_module": "@jupyter-widgets/base",
            "overflow": null,
            "_model_module_version": "1.2.0",
            "_view_count": null,
            "flex_flow": null,
            "width": null,
            "min_width": null,
            "border": null,
            "align_items": null,
            "bottom": null,
            "_model_module": "@jupyter-widgets/base",
            "top": null,
            "grid_column": null,
            "overflow_y": null,
            "overflow_x": null,
            "grid_auto_flow": null,
            "grid_area": null,
            "grid_template_columns": null,
            "flex": null,
            "_model_name": "LayoutModel",
            "justify_items": null,
            "grid_row": null,
            "max_height": null,
            "align_content": null,
            "visibility": null,
            "align_self": null,
            "height": null,
            "min_height": null,
            "padding": null,
            "grid_auto_rows": null,
            "grid_gap": null,
            "max_width": null,
            "order": null,
            "_view_module_version": "1.2.0",
            "grid_template_areas": null,
            "object_position": null,
            "object_fit": null,
            "grid_auto_columns": null,
            "margin": null,
            "display": null,
            "left": null
          }
        },
        "48a64651aad14184a74e0319fe03dd24": {
          "model_module": "@jupyter-widgets/controls",
          "model_name": "FloatProgressModel",
          "state": {
            "_view_name": "ProgressView",
            "style": "IPY_MODEL_a5e10f8af3244e9b9512ee06e944ffa0",
            "_dom_classes": [],
            "description": "",
            "_model_name": "FloatProgressModel",
            "bar_style": "info",
            "max": 1,
            "_view_module": "@jupyter-widgets/controls",
            "_model_module_version": "1.5.0",
            "value": 1,
            "_view_count": null,
            "_view_module_version": "1.5.0",
            "orientation": "horizontal",
            "min": 0,
            "description_tooltip": null,
            "_model_module": "@jupyter-widgets/controls",
            "layout": "IPY_MODEL_02cfdcf0e10941b58f2eeb9e366a0caf"
          }
        },
        "62ee33eedaae49689828b3349c6c2e4b": {
          "model_module": "@jupyter-widgets/controls",
          "model_name": "HTMLModel",
          "state": {
            "_view_name": "HTMLView",
            "style": "IPY_MODEL_a340d79b7fc647989fcd7f949498af91",
            "_dom_classes": [],
            "description": "",
            "_model_name": "HTMLModel",
            "placeholder": "​",
            "_view_module": "@jupyter-widgets/controls",
            "_model_module_version": "1.5.0",
            "value": " 170500096/? [00:30&lt;00:00, 16339106.44it/s]",
            "_view_count": null,
            "_view_module_version": "1.5.0",
            "description_tooltip": null,
            "_model_module": "@jupyter-widgets/controls",
            "layout": "IPY_MODEL_088f10229bfd4be899798062717eb14e"
          }
        },
        "a5e10f8af3244e9b9512ee06e944ffa0": {
          "model_module": "@jupyter-widgets/controls",
          "model_name": "ProgressStyleModel",
          "state": {
            "_view_name": "StyleView",
            "_model_name": "ProgressStyleModel",
            "description_width": "initial",
            "_view_module": "@jupyter-widgets/base",
            "_model_module_version": "1.5.0",
            "_view_count": null,
            "_view_module_version": "1.2.0",
            "bar_color": null,
            "_model_module": "@jupyter-widgets/controls"
          }
        },
        "02cfdcf0e10941b58f2eeb9e366a0caf": {
          "model_module": "@jupyter-widgets/base",
          "model_name": "LayoutModel",
          "state": {
            "_view_name": "LayoutView",
            "grid_template_rows": null,
            "right": null,
            "justify_content": null,
            "_view_module": "@jupyter-widgets/base",
            "overflow": null,
            "_model_module_version": "1.2.0",
            "_view_count": null,
            "flex_flow": null,
            "width": null,
            "min_width": null,
            "border": null,
            "align_items": null,
            "bottom": null,
            "_model_module": "@jupyter-widgets/base",
            "top": null,
            "grid_column": null,
            "overflow_y": null,
            "overflow_x": null,
            "grid_auto_flow": null,
            "grid_area": null,
            "grid_template_columns": null,
            "flex": null,
            "_model_name": "LayoutModel",
            "justify_items": null,
            "grid_row": null,
            "max_height": null,
            "align_content": null,
            "visibility": null,
            "align_self": null,
            "height": null,
            "min_height": null,
            "padding": null,
            "grid_auto_rows": null,
            "grid_gap": null,
            "max_width": null,
            "order": null,
            "_view_module_version": "1.2.0",
            "grid_template_areas": null,
            "object_position": null,
            "object_fit": null,
            "grid_auto_columns": null,
            "margin": null,
            "display": null,
            "left": null
          }
        },
        "a340d79b7fc647989fcd7f949498af91": {
          "model_module": "@jupyter-widgets/controls",
          "model_name": "DescriptionStyleModel",
          "state": {
            "_view_name": "StyleView",
            "_model_name": "DescriptionStyleModel",
            "description_width": "",
            "_view_module": "@jupyter-widgets/base",
            "_model_module_version": "1.5.0",
            "_view_count": null,
            "_view_module_version": "1.2.0",
            "_model_module": "@jupyter-widgets/controls"
          }
        },
        "088f10229bfd4be899798062717eb14e": {
          "model_module": "@jupyter-widgets/base",
          "model_name": "LayoutModel",
          "state": {
            "_view_name": "LayoutView",
            "grid_template_rows": null,
            "right": null,
            "justify_content": null,
            "_view_module": "@jupyter-widgets/base",
            "overflow": null,
            "_model_module_version": "1.2.0",
            "_view_count": null,
            "flex_flow": null,
            "width": null,
            "min_width": null,
            "border": null,
            "align_items": null,
            "bottom": null,
            "_model_module": "@jupyter-widgets/base",
            "top": null,
            "grid_column": null,
            "overflow_y": null,
            "overflow_x": null,
            "grid_auto_flow": null,
            "grid_area": null,
            "grid_template_columns": null,
            "flex": null,
            "_model_name": "LayoutModel",
            "justify_items": null,
            "grid_row": null,
            "max_height": null,
            "align_content": null,
            "visibility": null,
            "align_self": null,
            "height": null,
            "min_height": null,
            "padding": null,
            "grid_auto_rows": null,
            "grid_gap": null,
            "max_width": null,
            "order": null,
            "_view_module_version": "1.2.0",
            "grid_template_areas": null,
            "object_position": null,
            "object_fit": null,
            "grid_auto_columns": null,
            "margin": null,
            "display": null,
            "left": null
          }
        }
      }
    }
  },
  "cells": [
    {
      "cell_type": "markdown",
      "metadata": {
        "id": "NkxlrO-Mzwh1"
      },
      "source": [
        "# Exercise 2.4 (2 points)\n",
        "In this exercise you will implement PCA on the [CIFAR10](https://www.cs.toronto.edu/~kriz/cifar.html) data set. \n",
        "\n",
        "1. Perform the calculations as you did for the toy data set in exercise 2.3, until you arrive at the encoding matrix. \n",
        "In order for you to get some experience with PyTorch, you are required to do this using PyTorch matrix operations. You are not allowed to use libraries such as scikit-learn for this. \n",
        "\n",
        "2. Reduce the dimensionality of the data set to 2. Plot the result and describe whether 2 dimensions catch enough of the variance. Do so again for 3 dimensions. What did change?\n",
        "\n",
        "3. For a dimensionality of your choice, perform the reduction again. Motivate your choice of dimensionality.\n",
        "\n",
        "Write your answers to the questions in text blocks. \n",
        "\n",
        "If you want to have a quick start with Pytorch, use [Google Colab](https://colab.research.google.com/). Colab allows you to use either your local runtime and even your GPU, or you can just do everything online."
      ]
    },
    {
      "cell_type": "code",
      "metadata": {
        "id": "8gUUSwLM2m3k",
        "colab": {
          "base_uri": "https://localhost:8080/",
          "height": 275,
          "referenced_widgets": [
            "9cc5fd80582645f6883d4952d1b3ccb4",
            "e1be3639624248de9828cc1bffe53ef5",
            "48a64651aad14184a74e0319fe03dd24",
            "62ee33eedaae49689828b3349c6c2e4b",
            "a5e10f8af3244e9b9512ee06e944ffa0",
            "02cfdcf0e10941b58f2eeb9e366a0caf",
            "a340d79b7fc647989fcd7f949498af91",
            "088f10229bfd4be899798062717eb14e"
          ]
        },
        "outputId": "76d26210-d8f4-4bfd-9601-f624d2b9241e"
      },
      "source": [
        "import numpy as np\n",
        "from torchvision.datasets import CIFAR10\n",
        "from sklearn.preprocessing import StandardScaler\n",
        "import pandas as pd\n",
        "\n",
        "# Download the dataset and save it to a local folder. You should use the train set.\n",
        "cifar_10 = CIFAR10(root=\"data/\", download=True, train=True)\n",
        "\n",
        "# Create two variables that contain the labels and the image tensors.\n",
        "X, Y = cifar_10.data, cifar_10.targets\n",
        "X=X[0:5000]\n",
        "Y=Y[0:5000]\n",
        "print(X.shape)\n",
        "\n",
        "# Flatten the train data such that each image is represented as a 1D vector.\n",
        "# The size of the vector is 32 x 32 x 3 = 3072\n",
        "X_flat = X.reshape(-1, 3072)\n",
        "print(X_flat.shape)\n",
        "\n",
        "# Center the data by subtracting the mean from each row\n",
        "M = np.mean(X_flat,axis=0)\n",
        "X_flat = X_flat - M\n",
        "\n",
        "# We suggest to use a pandas data frame to store the data, but you can deviate \n",
        "# from this if some other package suits you better.\n",
        "col_names = [\"feature_\" + str(i) for i in range(X_flat.shape[1])]\n",
        "df_cifar_10 = pd.DataFrame(X_flat, columns=col_names)\n",
        "df_cifar_10['target'] = Y\n",
        "\n",
        "print(df_cifar_10.head())\n",
        "df_cifar_10.shape\n"
      ],
      "execution_count": 2,
      "outputs": [
        {
          "output_type": "stream",
          "text": [
            "Downloading https://www.cs.toronto.edu/~kriz/cifar-10-python.tar.gz to data/cifar-10-python.tar.gz\n"
          ],
          "name": "stdout"
        },
        {
          "output_type": "display_data",
          "data": {
            "application/vnd.jupyter.widget-view+json": {
              "model_id": "9cc5fd80582645f6883d4952d1b3ccb4",
              "version_minor": 0,
              "version_major": 2
            },
            "text/plain": [
              "HBox(children=(FloatProgress(value=1.0, bar_style='info', max=1.0), HTML(value='')))"
            ]
          },
          "metadata": {
            "tags": []
          }
        },
        {
          "output_type": "stream",
          "text": [
            "Extracting data/cifar-10-python.tar.gz to data/\n",
            "(5000, 32, 32, 3)\n",
            "(5000, 3072)\n",
            "   feature_0  feature_1  feature_2  ...  feature_3070  feature_3071  target\n",
            "0   -72.4542   -74.3766    -69.681  ...       -34.203      -42.7262       6\n",
            "1    22.5458    40.6234     54.319  ...         6.797       29.2738       9\n",
            "2   123.5458   118.6234    122.319  ...       -40.203      -30.7262       9\n",
            "3  -103.4542  -111.3766   -122.681  ...       -61.203      -68.7262       4\n",
            "4    38.5458    43.6234     65.319  ...       -49.203      -34.7262       1\n",
            "\n",
            "[5 rows x 3073 columns]\n"
          ],
          "name": "stdout"
        },
        {
          "output_type": "execute_result",
          "data": {
            "text/plain": [
              "(5000, 3073)"
            ]
          },
          "metadata": {
            "tags": []
          },
          "execution_count": 2
        }
      ]
    },
    {
      "cell_type": "code",
      "metadata": {
        "id": "tPvqpg0ETM6I",
        "colab": {
          "base_uri": "https://localhost:8080/"
        },
        "outputId": "64b34a42-1fec-4a5d-9c7b-b24d54977fa9"
      },
      "source": [
        "# 1. Now, do the calculations in PyTorch step-by-step:\n",
        "# Load the data into a PyTorch tensor \n",
        "import torch\n",
        "\n",
        "tensor_x = X_flat\n",
        "torch_tensor_x = torch.from_numpy(tensor_x)\n",
        "torch_tensor_x.shape\n",
        "\n",
        "\n",
        "# Compare https://pytorch.org/docs/stable/generated/torch.from_numpy.html"
      ],
      "execution_count": 9,
      "outputs": [
        {
          "output_type": "execute_result",
          "data": {
            "text/plain": [
              "torch.Size([5000, 3072])"
            ]
          },
          "metadata": {
            "tags": []
          },
          "execution_count": 9
        }
      ]
    },
    {
      "cell_type": "code",
      "metadata": {
        "id": "0f_vD5qOJmPb",
        "colab": {
          "base_uri": "https://localhost:8080/"
        },
        "outputId": "95c0a2bc-63b1-4e47-e714-d976c6e47755"
      },
      "source": [
        "# Calculate the covariance matrix\n",
        "# Compare https://pytorch.org/docs/stable/generated/torch.matmul.html\n",
        "\n",
        "# tprch.dot() = give 2D Tensor and we need 1D = so using torch.matmul\n",
        "torch_tensor_x_transpose = torch_tensor_x.T\n",
        "cov_Cx = torch.matmul(torch_tensor_x_transpose,torch_tensor_x)\n",
        "#cov_Cx = ((torch_tensor_x).dot(torch_tensor_x_transpose))\n",
        "print(cov_Cx.size())\n",
        "\n",
        "\n",
        "\n",
        "\n"
      ],
      "execution_count": 10,
      "outputs": [
        {
          "output_type": "stream",
          "text": [
            "torch.Size([3072, 3072])\n"
          ],
          "name": "stdout"
        }
      ]
    },
    {
      "cell_type": "code",
      "metadata": {
        "id": "K6VNh_PwYie-"
      },
      "source": [
        ""
      ],
      "execution_count": null,
      "outputs": []
    },
    {
      "cell_type": "code",
      "metadata": {
        "id": "WYlhQS74JmZc",
        "colab": {
          "base_uri": "https://localhost:8080/"
        },
        "outputId": "018793eb-e9fb-46c5-ff20-479b4a510c8d"
      },
      "source": [
        "# Let PyTorch do the eigendecomposition\n",
        "# Compare https://pytorch.org/docs/stable/generated/torch.eig.html\n",
        "\n",
        "\n",
        "\n",
        "eigenval, eigenvec = torch.eig(cov_Cx, eigenvectors=True)\n",
        "eigenval = torch.narrow(eigenval, 1,0,1)\n",
        "sorted_eigenval, indices = torch.sort(eigenval, 0, descending=True)\n",
        "print(indices)\n",
        "\n"
      ],
      "execution_count": 11,
      "outputs": [
        {
          "output_type": "stream",
          "text": [
            "tensor([[   0],\n",
            "        [   1],\n",
            "        [   2],\n",
            "        ...,\n",
            "        [2528],\n",
            "        [2603],\n",
            "        [2602]])\n"
          ],
          "name": "stdout"
        }
      ]
    },
    {
      "cell_type": "code",
      "metadata": {
        "id": "XaRKlM4-KiXt",
        "colab": {
          "base_uri": "https://localhost:8080/",
          "height": 581
        },
        "outputId": "a1c770eb-32ad-4c70-ece0-6ec023f2d493"
      },
      "source": [
        "# 2.\n",
        "# Reduce the dimensionality of the data set to 2. Plot the result and describe \n",
        "# whether 2 dimensions catch enough of the variance. \n",
        "\n",
        "from matplotlib import pyplot as plt\n",
        "from mpl_toolkits import mplot3d\n",
        " # principal component = PC\n",
        "\n",
        "PC2= eigenvec[:,:2]\n",
        "reduced_2D= torch.matmul(PC2.T, torch_tensor_x_transpose)\n",
        "print(reduced_2D.shape)\n",
        "\n",
        "plt.scatter(reduced_2D[0], reduced_2D[1], color= \"b\")\n",
        "\n",
        "show_variance = (torch.sum(eigenval[0:2]))/torch.sum(eigenval)*100\n",
        "print(show_variance)\n",
        "plt.title(\"Variance covered by PC2 and show_variance\", color= \"b\")\n",
        "plt.grid()\n",
        "plt.show()\n",
        "\n",
        "### Answers : In 2 Dimension , PC2 = covers 40.4395% variance only\n",
        "\n",
        "\n",
        "\n",
        "# Do so again for 3 dimensions. What did change?\n",
        "# (Here's a tutorial on how to plot in 3 dimensions with pyplot:\n",
        "# https://towardsdatascience.com/an-easy-introduction-to-3d-plotting-with-matplotlib-801561999725)\n",
        "\n",
        "PC3= eigenvec[:,:3]\n",
        "reduced_3D= torch.matmul(PC3.T, torch_tensor_x_transpose)\n",
        "print(reduced_3D.shape)\n",
        "\n",
        "fig = plt.figure()\n",
        "ax = plt.axes(projection=\"3d\")\n",
        "ax.scatter(reduced_3D[0], reduced_3D[1],reduced_3D[2], color= \"r\")\n",
        "show_variance_3D = (torch.sum(eigenval[0:3]))/torch.sum(eigenval)*100\n",
        "print(show_variance_3D)\n",
        "plt.title(\"Variance covered by PC3 and show_variance_3D\", color= \"r\")\n",
        "plt.show()\n",
        "\n",
        "\n",
        "\n",
        "\n",
        "# What do you observe?\n",
        "\n",
        "\n",
        "### Answers : IN 3 Dimension = 47.0754% variance is covered which is more than covered in 2D "
      ],
      "execution_count": null,
      "outputs": [
        {
          "output_type": "stream",
          "text": [
            "torch.Size([2, 5000])\n",
            "tensor(40.4395, dtype=torch.float64)\n"
          ],
          "name": "stdout"
        },
        {
          "output_type": "display_data",
          "data": {
            "image/png": "[encoded data removed]",
            "text/plain": [
              "<Figure size 432x288 with 1 Axes>"
            ]
          },
          "metadata": {
            "tags": [],
            "needs_background": "light"
          }
        },
        {
          "output_type": "stream",
          "text": [
            "torch.Size([3, 5000])\n",
            "tensor(47.0754, dtype=torch.float64)\n"
          ],
          "name": "stdout"
        },
        {
          "output_type": "display_data",
          "data": {
            "image/png": "[encoded data removed]",
            "text/plain": [
              "<Figure size 432x288 with 1 Axes>"
            ]
          },
          "metadata": {
            "tags": [],
            "needs_background": "light"
          }
        }
      ]
    },
    {
      "cell_type": "code",
      "metadata": {
        "id": "7FKsCLVqLLKQ",
        "colab": {
          "base_uri": "https://localhost:8080/"
        },
        "outputId": "63062958-16e4-40dc-ed33-8bc64864558e"
      },
      "source": [
        "# 3.\n",
        "# For a dimensionality of your choice, perform the reduction again. \n",
        "# Motivate your choice of dimensionality.\n",
        "\n",
        "\n",
        "## check how many dimentsion can represent your 95% data\n",
        "\n",
        "explained_variance= list()\n",
        "for i in range(len(eigenval)):\n",
        " explained_variance.append((eigenval[i]/sum(eigenval)).item())\n",
        "\n",
        "explained_variance = sorted(explained_variance,reverse= True)\n",
        "S=0\n",
        "print(\"Rank at tvariance, t at tvariance at Rank\")\n",
        "for i, variance in enumerate(explained_variance):\n",
        " S+= variance\n",
        " print(\"{}\\t{}\\t{}\".format(i, variance, S))\n",
        " if S >= 0.95:\n",
        "   break\n",
        "\n",
        "\n",
        "### wuth the reusle, you see = with 202 dimension, we can represned 95% of our original data "
      ],
      "execution_count": 18,
      "outputs": [
        {
          "output_type": "stream",
          "text": [
            "Rank at tvariance, t at tvariance at Rank\n",
            "0\t0.29194361665830687\t0.29194361665830687\n",
            "1\t0.11245143144356202\t0.4043950481018689\n",
            "2\t0.06635922624547122\t0.4707542743473401\n",
            "3\t0.037136478897319414\t0.5078907532446595\n",
            "4\t0.03544328855562439\t0.5433340418002839\n",
            "5\t0.02880064943807992\t0.5721346912383638\n",
            "6\t0.02650439299344408\t0.5986390842318079\n",
            "7\t0.02191009378750647\t0.6205491780193144\n",
            "8\t0.021092558422722375\t0.6416417364420368\n",
            "9\t0.014533349638918832\t0.6561750860809556\n",
            "10\t0.013472048030647867\t0.6696471341116035\n",
            "11\t0.010542434397209581\t0.6801895685088131\n",
            "12\t0.010491482024839295\t0.6906810505336524\n",
            "13\t0.010106248733025899\t0.7007872992666783\n",
            "14\t0.009058684492009493\t0.7098459837586878\n",
            "15\t0.008537898076183425\t0.7183838818348712\n",
            "16\t0.0075381697099566125\t0.7259220515448278\n",
            "17\t0.007055032873968755\t0.7329770844187966\n",
            "18\t0.006713667378706032\t0.7396907517975027\n",
            "19\t0.006558289996020739\t0.7462490417935234\n",
            "20\t0.006184086014913774\t0.7524331278084372\n",
            "21\t0.00579233340647798\t0.7582254612149152\n",
            "22\t0.005057269211343089\t0.7632827304262583\n",
            "23\t0.004917056841769684\t0.768199787268028\n",
            "24\t0.004841585522400906\t0.7730413727904288\n",
            "25\t0.004715475678603228\t0.777756848469032\n",
            "26\t0.004582673282050242\t0.7823395217510822\n",
            "27\t0.004455256223836938\t0.7867947779749191\n",
            "28\t0.004137211350282842\t0.790931989325202\n",
            "29\t0.0039683449625101015\t0.7949003342877121\n",
            "30\t0.0036609631574722953\t0.7985612974451844\n",
            "31\t0.0034201913155682234\t0.8019814887607527\n",
            "32\t0.003228393574110771\t0.8052098823348635\n",
            "33\t0.003162736511457473\t0.808372618846321\n",
            "34\t0.0030889896295158955\t0.8114616084758368\n",
            "35\t0.003020921574130667\t0.8144825300499675\n",
            "36\t0.0027151006135934064\t0.8171976306635609\n",
            "37\t0.00258855728411334\t0.8197861879476742\n",
            "38\t0.0025048536206149713\t0.8222910415682891\n",
            "39\t0.0024797944685632503\t0.8247708360368524\n",
            "40\t0.0024692316269396435\t0.8272400676637921\n",
            "41\t0.0023603572147489252\t0.829600424878541\n",
            "42\t0.002321856452100081\t0.8319222813306411\n",
            "43\t0.0022040161720198598\t0.8341262975026609\n",
            "44\t0.0021254522353243246\t0.8362517497379852\n",
            "45\t0.0021181636022992393\t0.8383699133402844\n",
            "46\t0.001934015272543271\t0.8403039286128277\n",
            "47\t0.0019065751756518225\t0.8422105037884795\n",
            "48\t0.001844086041337148\t0.8440545898298166\n",
            "49\t0.0018096583177839676\t0.8458642481476006\n",
            "50\t0.001762106411163578\t0.8476263545587642\n",
            "51\t0.0017406357348574637\t0.8493669902936217\n",
            "52\t0.0017153474287510634\t0.8510823377223727\n",
            "53\t0.0016776591898497676\t0.8527599969122225\n",
            "54\t0.0016656490299944125\t0.8544256459422169\n",
            "55\t0.00162609212979331\t0.8560517380720102\n",
            "56\t0.0015903971092156256\t0.8576421351812258\n",
            "57\t0.0015829637841468696\t0.8592250989653727\n",
            "58\t0.0015299015650253112\t0.860755000530398\n",
            "59\t0.0015012749315751214\t0.8622562754619731\n",
            "60\t0.0014776682660713489\t0.8637339437280445\n",
            "61\t0.0014459517370940937\t0.8651798954651385\n",
            "62\t0.0014018427654862173\t0.8665817382306248\n",
            "63\t0.0013841566311691002\t0.8679658948617939\n",
            "64\t0.0013500905886648343\t0.8693159854504587\n",
            "65\t0.001312820934566621\t0.8706288063850254\n",
            "66\t0.0012936684934882418\t0.8719224748785136\n",
            "67\t0.0012702967964394443\t0.873192771674953\n",
            "68\t0.0012421661100081437\t0.8744349377849612\n",
            "69\t0.0012275868487251122\t0.8756625246336863\n",
            "70\t0.0011827478189630712\t0.8768452724526494\n",
            "71\t0.0011732638288410018\t0.8780185362814904\n",
            "72\t0.001148462213176616\t0.8791669984946671\n",
            "73\t0.001118587566941635\t0.8802855860616087\n",
            "74\t0.0011055443138826724\t0.8813911303754913\n",
            "75\t0.0011020429360904184\t0.8824931733115817\n",
            "76\t0.001087211853978784\t0.8835803851655605\n",
            "77\t0.0010793144844558017\t0.8846596996500162\n",
            "78\t0.0010418176407090433\t0.8857015172907253\n",
            "79\t0.0010315640791398403\t0.8867330813698652\n",
            "80\t0.0010305495487692256\t0.8877636309186344\n",
            "81\t0.0010055471392071422\t0.8887691780578416\n",
            "82\t0.00099418696906324\t0.8897633650269049\n",
            "83\t0.0009581835575768036\t0.8907215485844817\n",
            "84\t0.0009504419411830036\t0.8916719905256647\n",
            "85\t0.0009350181529714298\t0.8926070086786362\n",
            "86\t0.000923898814280587\t0.8935309074929167\n",
            "87\t0.0009212133706374886\t0.8944521208635542\n",
            "88\t0.0009077537086599408\t0.8953598745722141\n",
            "89\t0.0008930601804467256\t0.8962529347526609\n",
            "90\t0.0008752824054123945\t0.8971282171580732\n",
            "91\t0.0008605416672638821\t0.8979887588253371\n",
            "92\t0.0008524646839079623\t0.8988412235092451\n",
            "93\t0.0008386272449986711\t0.8996798507542438\n",
            "94\t0.0008334779445120237\t0.9005133286987559\n",
            "95\t0.0008193729892335374\t0.9013327016879894\n",
            "96\t0.0007914617202927361\t0.9021241634082822\n",
            "97\t0.0007791950656701117\t0.9029033584739523\n",
            "98\t0.0007761040392719301\t0.9036794625132243\n",
            "99\t0.0007568559815844756\t0.9044363184948088\n",
            "100\t0.0007393287774999912\t0.9051756472723087\n",
            "101\t0.0007280442803957666\t0.9059036915527044\n",
            "102\t0.0007178051194649959\t0.9066214966721694\n",
            "103\t0.0007123444240200016\t0.9073338410961894\n",
            "104\t0.0006983450917405541\t0.90803218618793\n",
            "105\t0.00069590113983467\t0.9087280873277647\n",
            "106\t0.0006768918920616527\t0.9094049792198263\n",
            "107\t0.0006728662943972761\t0.9100778455142235\n",
            "108\t0.0006667276657669729\t0.9107445731799905\n",
            "109\t0.0006665030701826503\t0.9114110762501731\n",
            "110\t0.000656661775102277\t0.9120677380252754\n",
            "111\t0.0006471905906399608\t0.9127149286159154\n",
            "112\t0.000641103030065698\t0.9133560316459811\n",
            "113\t0.0006268861752235764\t0.9139829178212047\n",
            "114\t0.0006243211934491827\t0.9146072390146538\n",
            "115\t0.00061078839595826\t0.9152180274106121\n",
            "116\t0.000605456147663298\t0.9158234835582754\n",
            "117\t0.0005968270472320304\t0.9164203106055074\n",
            "118\t0.0005871805214843769\t0.9170074911269919\n",
            "119\t0.000584044937839538\t0.9175915360648315\n",
            "120\t0.0005787312920742539\t0.9181702673569058\n",
            "121\t0.0005719570153787222\t0.9187422243722845\n",
            "122\t0.000565665964813045\t0.9193078903370975\n",
            "123\t0.0005572213074101573\t0.9198651116445077\n",
            "124\t0.0005512242796236468\t0.9204163359241313\n",
            "125\t0.0005426673899830674\t0.9209590033141144\n",
            "126\t0.0005407560148768266\t0.9214997593289912\n",
            "127\t0.0005370158336799483\t0.9220367751626711\n",
            "128\t0.0005250163843013998\t0.9225617915469725\n",
            "129\t0.000519251850979813\t0.9230810433979523\n",
            "130\t0.0005159040548280904\t0.9235969474527803\n",
            "131\t0.0005086373410215897\t0.9241055847938019\n",
            "132\t0.0005047272385085352\t0.9246103120323105\n",
            "133\t0.0004996208357227193\t0.9251099328680332\n",
            "134\t0.0004954136228917336\t0.925605346490925\n",
            "135\t0.0004902335476144672\t0.9260955800385394\n",
            "136\t0.0004842059540261336\t0.9265797859925655\n",
            "137\t0.0004790880341002618\t0.9270588740266658\n",
            "138\t0.0004696480334256393\t0.9275285220600914\n",
            "139\t0.0004624072385229582\t0.9279909292986144\n",
            "140\t0.00046196644599014294\t0.9284528957446045\n",
            "141\t0.0004593108940070876\t0.9289122066386116\n",
            "142\t0.0004538096741140161\t0.9293660163127256\n",
            "143\t0.0004508610781767344\t0.9298168773909024\n",
            "144\t0.00044509715055824896\t0.9302619745414606\n",
            "145\t0.0004418398642901539\t0.9307038144057508\n",
            "146\t0.0004377482972652284\t0.9311415627030161\n",
            "147\t0.000431925801104912\t0.931573488504121\n",
            "148\t0.00042741789938532905\t0.9320009064035063\n",
            "149\t0.0004243803144605216\t0.9324252867179669\n",
            "150\t0.00042104629470166515\t0.9328463330126685\n",
            "151\t0.0004185443821941077\t0.9332648773948626\n",
            "152\t0.00041354222568917306\t0.9336784196205518\n",
            "153\t0.00040850533630391406\t0.9340869249568556\n",
            "154\t0.0004036693819277594\t0.9344905943387833\n",
            "155\t0.0003960344155183521\t0.9348866287543017\n",
            "156\t0.00039333506290712957\t0.9352799638172089\n",
            "157\t0.00038720236173297475\t0.9356671661789419\n",
            "158\t0.00038617937860779865\t0.9360533455575497\n",
            "159\t0.0003837638655909335\t0.9364371094231406\n",
            "160\t0.0003789265209662215\t0.9368160359441069\n",
            "161\t0.0003782244893158487\t0.9371942604334228\n",
            "162\t0.00037343390749572933\t0.9375676943409186\n",
            "163\t0.0003699713927465551\t0.9379376657336651\n",
            "164\t0.0003659335613596742\t0.9383035992950248\n",
            "165\t0.00036124745622177854\t0.9386648467512466\n",
            "166\t0.0003584462435931\t0.9390232929948397\n",
            "167\t0.0003514215063043155\t0.939374714501144\n",
            "168\t0.0003493765014562781\t0.9397240910026002\n",
            "169\t0.00034709398047943856\t0.9400711849830796\n",
            "170\t0.0003460688862993321\t0.9404172538693789\n",
            "171\t0.0003428832355776738\t0.9407601371049565\n",
            "172\t0.0003379723979232475\t0.9410981095028798\n",
            "173\t0.0003337650150069019\t0.9414318745178867\n",
            "174\t0.00033215205400910573\t0.9417640265718958\n",
            "175\t0.00032895979283087385\t0.9420929863647267\n",
            "176\t0.0003269101709604921\t0.9424198965356873\n",
            "177\t0.0003241241358710595\t0.9427440206715583\n",
            "178\t0.00032293514905464536\t0.943066955820613\n",
            "179\t0.0003197347923220987\t0.943386690612935\n",
            "180\t0.00031799815142611665\t0.9437046887643611\n",
            "181\t0.00031401575750858955\t0.9440187045218696\n",
            "182\t0.0003112104517323249\t0.944329914973602\n",
            "183\t0.00030926443558109215\t0.9446391794091831\n",
            "184\t0.00030598789942801413\t0.9449451673086111\n",
            "185\t0.0003039173708625051\t0.9452490846794737\n",
            "186\t0.0003031186568285165\t0.9455522033363022\n",
            "187\t0.00030072504681657964\t0.9458529283831187\n",
            "188\t0.0002985587475733654\t0.9461514871306921\n",
            "189\t0.0002968924647229136\t0.946448379595415\n",
            "190\t0.00029344722592863876\t0.9467418268213436\n",
            "191\t0.00029155189606309696\t0.9470333787174067\n",
            "192\t0.000289766644947973\t0.9473231453623546\n",
            "193\t0.00028858032384409177\t0.9476117256861987\n",
            "194\t0.0002857168103807225\t0.9478974424965794\n",
            "195\t0.00028509067860515964\t0.9481825331751845\n",
            "196\t0.0002825321956723757\t0.948465065370857\n",
            "197\t0.00028127144411973473\t0.9487463368149767\n",
            "198\t0.0002786411826378722\t0.9490249779976145\n",
            "199\t0.0002773858058527752\t0.9493023638034673\n",
            "200\t0.000271432258059302\t0.9495737960615266\n",
            "201\t0.0002692395198749766\t0.9498430355814016\n",
            "202\t0.0002684964100650035\t0.9501115319914666\n"
          ],
          "name": "stdout"
        }
      ]
    }
  ]
}